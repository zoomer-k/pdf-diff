{
  "nbformat": 4,
  "nbformat_minor": 0,
  "metadata": {
    "colab": {
      "name": "pdf_diff_check.ipynb",
      "provenance": [],
      "collapsed_sections": [],
      "include_colab_link": true
    },
    "kernelspec": {
      "name": "python3",
      "display_name": "Python 3"
    }
  },
  "cells": [
    {
      "cell_type": "markdown",
      "metadata": {
        "id": "view-in-github",
        "colab_type": "text"
      },
      "source": [
        "<a href=\"https://colab.research.google.com/github/zoomer-k/pdf-diff/blob/main/pdf_diff_check.ipynb\" target=\"_parent\"><img src=\"https://colab.research.google.com/assets/colab-badge.svg\" alt=\"Open In Colab\"/></a>"
      ]
    },
    {
      "cell_type": "markdown",
      "metadata": {
        "id": "RYwYVap8hYMQ"
      },
      "source": [
        "\n",
        "## 回路図差分チェックツール  \n",
        "PDFの回路図を画像に変換して、差分をチェックします。\n",
        "\n",
        "比較する回路図を以下の名前でフォルダーに追加してください。\n",
        "\n",
        "new.pdf  \n",
        "old.pdf\n",
        "\n",
        "保存先　→（/content)フォルダー\n",
        "\n",
        "追加後　ctrl + F9　もしくは、ランタイム→すべてのセルを実行を押してください。\n",
        "\n",
        "比較結果が以下のファイル名で保存されます。\n",
        "\n",
        "result.pdf\n",
        "\n"
      ]
    },
    {
      "cell_type": "markdown",
      "source": [
        "# 新しいセクション"
      ],
      "metadata": {
        "id": "LgjsS4IracSF"
      }
    },
    {
      "cell_type": "code",
      "source": [
        "from google.colab import drive\n",
        "drive.mount('/content/drive')"
      ],
      "metadata": {
        "id": "MwbVjq2kesE7",
        "colab": {
          "base_uri": "https://localhost:8080/"
        },
        "outputId": "1c1391c5-4871-4e18-8386-8da3a49e98c6"
      },
      "execution_count": null,
      "outputs": [
        {
          "output_type": "stream",
          "name": "stdout",
          "text": [
            "Mounted at /content/drive\n"
          ]
        }
      ]
    },
    {
      "cell_type": "markdown",
      "metadata": {
        "id": "9T8YTRtI_8xU"
      },
      "source": [
        "# 変更履歴\n",
        "\n",
        "## 1.02\n",
        "* poppler-utilsがインストールできない問題に対応\n",
        "\n",
        "## 1.01\n",
        "* 生成されるresult.pdfの並びを番号順にソートされるように修正\n",
        "\n",
        "\n"
      ]
    },
    {
      "cell_type": "markdown",
      "metadata": {
        "id": "armhKRn5CUWT"
      },
      "source": [
        "斜体テキスト# 新しいセクション"
      ]
    },
    {
      "cell_type": "code",
      "metadata": {
        "id": "z0-7y_Q1QrX8",
        "colab": {
          "base_uri": "https://localhost:8080/"
        },
        "outputId": "f909a5f4-9b35-4ccd-83c4-cf01595607f6"
      },
      "source": [
        "#https://qiita.com/k12u/items/2f9f04f94f0ce8daea67\n",
        "!sudo apt-get update"
      ],
      "execution_count": null,
      "outputs": [
        {
          "output_type": "stream",
          "name": "stdout",
          "text": [
            "\r0% [Working]\r            \rGet:1 https://cloud.r-project.org/bin/linux/ubuntu bionic-cran40/ InRelease [3,626 B]\n",
            "Hit:2 https://developer.download.nvidia.com/compute/cuda/repos/ubuntu1804/x86_64  InRelease\n",
            "Get:3 http://security.ubuntu.com/ubuntu bionic-security InRelease [88.7 kB]\n",
            "Ign:4 https://developer.download.nvidia.com/compute/machine-learning/repos/ubuntu1804/x86_64  InRelease\n",
            "Hit:5 http://ppa.launchpad.net/c2d4u.team/c2d4u4.0+/ubuntu bionic InRelease\n",
            "Hit:6 http://archive.ubuntu.com/ubuntu bionic InRelease\n",
            "Hit:7 https://developer.download.nvidia.com/compute/machine-learning/repos/ubuntu1804/x86_64  Release\n",
            "Get:8 http://archive.ubuntu.com/ubuntu bionic-updates InRelease [88.7 kB]\n",
            "Hit:9 http://ppa.launchpad.net/cran/libgit2/ubuntu bionic InRelease\n",
            "Hit:10 http://ppa.launchpad.net/deadsnakes/ppa/ubuntu bionic InRelease\n",
            "Get:11 http://archive.ubuntu.com/ubuntu bionic-backports InRelease [74.6 kB]\n",
            "Hit:13 http://ppa.launchpad.net/graphics-drivers/ppa/ubuntu bionic InRelease\n",
            "Get:14 http://security.ubuntu.com/ubuntu bionic-security/main amd64 Packages [2,867 kB]\n",
            "Get:15 http://archive.ubuntu.com/ubuntu bionic-updates/universe amd64 Packages [2,298 kB]\n",
            "Get:16 http://archive.ubuntu.com/ubuntu bionic-updates/main amd64 Packages [3,303 kB]\n",
            "Get:17 http://archive.ubuntu.com/ubuntu bionic-updates/restricted amd64 Packages [1,075 kB]\n",
            "Fetched 9,797 kB in 2s (4,427 kB/s)\n",
            "Reading package lists... Done\n"
          ]
        }
      ]
    },
    {
      "cell_type": "code",
      "metadata": {
        "id": "JJ7YqJ8I0htK",
        "colab": {
          "base_uri": "https://localhost:8080/"
        },
        "outputId": "d2ea26f8-bfde-495b-fd59-50ece3f2ae41"
      },
      "source": [
        "!sudo apt install poppler-utils\n",
        "#日本語フォントにはdataも必要\n",
        "!sudo apt install poppler-data"
      ],
      "execution_count": null,
      "outputs": [
        {
          "output_type": "stream",
          "name": "stdout",
          "text": [
            "Reading package lists... Done\n",
            "Building dependency tree       \n",
            "Reading state information... Done\n",
            "The following package was automatically installed and is no longer required:\n",
            "  libnvidia-common-460\n",
            "Use 'sudo apt autoremove' to remove it.\n",
            "The following NEW packages will be installed:\n",
            "  poppler-utils\n",
            "0 upgraded, 1 newly installed, 0 to remove and 49 not upgraded.\n",
            "Need to get 154 kB of archives.\n",
            "After this operation, 613 kB of additional disk space will be used.\n",
            "Get:1 http://archive.ubuntu.com/ubuntu bionic-updates/main amd64 poppler-utils amd64 0.62.0-2ubuntu2.12 [154 kB]\n",
            "Fetched 154 kB in 0s (355 kB/s)\n",
            "debconf: unable to initialize frontend: Dialog\n",
            "debconf: (No usable dialog-like program is installed, so the dialog based frontend cannot be used. at /usr/share/perl5/Debconf/FrontEnd/Dialog.pm line 76, <> line 1.)\n",
            "debconf: falling back to frontend: Readline\n",
            "debconf: unable to initialize frontend: Readline\n",
            "debconf: (This frontend requires a controlling tty.)\n",
            "debconf: falling back to frontend: Teletype\n",
            "dpkg-preconfigure: unable to re-open stdin: \n",
            "Selecting previously unselected package poppler-utils.\n",
            "(Reading database ... 155639 files and directories currently installed.)\n",
            "Preparing to unpack .../poppler-utils_0.62.0-2ubuntu2.12_amd64.deb ...\n",
            "Unpacking poppler-utils (0.62.0-2ubuntu2.12) ...\n",
            "Setting up poppler-utils (0.62.0-2ubuntu2.12) ...\n",
            "Processing triggers for man-db (2.8.3-2ubuntu0.1) ...\n",
            "Reading package lists... Done\n",
            "Building dependency tree       \n",
            "Reading state information... Done\n",
            "The following package was automatically installed and is no longer required:\n",
            "  libnvidia-common-460\n",
            "Use 'sudo apt autoremove' to remove it.\n",
            "Suggested packages:\n",
            "  ghostscript fonts-japanese-mincho | fonts-ipafont-mincho\n",
            "  fonts-japanese-gothic | fonts-ipafont-gothic fonts-arphic-ukai\n",
            "  fonts-arphic-uming fonts-nanum\n",
            "The following NEW packages will be installed:\n",
            "  poppler-data\n",
            "0 upgraded, 1 newly installed, 0 to remove and 49 not upgraded.\n",
            "Need to get 1,479 kB of archives.\n",
            "After this operation, 12.5 MB of additional disk space will be used.\n",
            "Get:1 http://archive.ubuntu.com/ubuntu bionic/main amd64 poppler-data all 0.4.8-2 [1,479 kB]\n",
            "Fetched 1,479 kB in 1s (2,141 kB/s)\n",
            "debconf: unable to initialize frontend: Dialog\n",
            "debconf: (No usable dialog-like program is installed, so the dialog based frontend cannot be used. at /usr/share/perl5/Debconf/FrontEnd/Dialog.pm line 76, <> line 1.)\n",
            "debconf: falling back to frontend: Readline\n",
            "debconf: unable to initialize frontend: Readline\n",
            "debconf: (This frontend requires a controlling tty.)\n",
            "debconf: falling back to frontend: Teletype\n",
            "dpkg-preconfigure: unable to re-open stdin: \n",
            "Selecting previously unselected package poppler-data.\n",
            "(Reading database ... 155667 files and directories currently installed.)\n",
            "Preparing to unpack .../poppler-data_0.4.8-2_all.deb ...\n",
            "Unpacking poppler-data (0.4.8-2) ...\n",
            "Setting up poppler-data (0.4.8-2) ...\n",
            "Processing triggers for fontconfig (2.12.6-0ubuntu2) ...\n"
          ]
        }
      ]
    },
    {
      "cell_type": "code",
      "metadata": {
        "id": "4Zh4wWoHztp_",
        "colab": {
          "base_uri": "https://localhost:8080/"
        },
        "outputId": "ea1fa590-1ad1-4d6a-d13d-61154e7d60b7"
      },
      "source": [
        "!pip install pdf2image\n",
        "!pip install pillow"
      ],
      "execution_count": null,
      "outputs": [
        {
          "output_type": "stream",
          "name": "stdout",
          "text": [
            "Looking in indexes: https://pypi.org/simple, https://us-python.pkg.dev/colab-wheels/public/simple/\n",
            "Collecting pdf2image\n",
            "  Downloading pdf2image-1.16.0-py3-none-any.whl (10 kB)\n",
            "Requirement already satisfied: pillow in /usr/local/lib/python3.7/dist-packages (from pdf2image) (7.1.2)\n",
            "Installing collected packages: pdf2image\n",
            "Successfully installed pdf2image-1.16.0\n",
            "Looking in indexes: https://pypi.org/simple, https://us-python.pkg.dev/colab-wheels/public/simple/\n",
            "Requirement already satisfied: pillow in /usr/local/lib/python3.7/dist-packages (7.1.2)\n"
          ]
        }
      ]
    },
    {
      "cell_type": "code",
      "metadata": {
        "id": "XDZuOL9xzdQI"
      },
      "source": [
        "import pdf2image\n",
        "import os"
      ],
      "execution_count": null,
      "outputs": []
    },
    {
      "cell_type": "code",
      "metadata": {
        "id": "hqVq5wLdiGwQ"
      },
      "source": [
        "# フォルダ作成\n",
        "!mkdir -p /content/result_img\n",
        "!mkdir -p /content/target_img\n",
        "!mkdir -p /content/source_img"
      ],
      "execution_count": null,
      "outputs": []
    },
    {
      "cell_type": "code",
      "metadata": {
        "id": "vkYKYY0ZljCw",
        "colab": {
          "base_uri": "https://localhost:8080/"
        },
        "outputId": "64c5bac5-9b31-4ec7-fb14-c1ea9cff7069"
      },
      "source": [
        "!ls"
      ],
      "execution_count": null,
      "outputs": [
        {
          "output_type": "stream",
          "name": "stdout",
          "text": [
            "drive  new.pdf\told.pdf  result_img  sample_data  source_img  target_img\n"
          ]
        }
      ]
    },
    {
      "cell_type": "code",
      "metadata": {
        "id": "aHJv2hJDzib7"
      },
      "source": [
        "\n",
        "#カレントディレクトリ内のファイルリストを取得\n",
        "files = os.listdir('.')\n",
        "for file in files:\n",
        "    #PDFファイルだったら\n",
        "    if 'new.pdf' in file:\n",
        "        #PDFファイルを画像ファイルに変換\n",
        "        images = pdf2image.convert_from_path(file, grayscale=True, size=4000)\n",
        "        fname = os.path.splitext(file)[0]\n",
        "        #ページごとに保存\n",
        "        for index, image in enumerate(images):\n",
        "            #newとoldで同じファイル名にする\n",
        "            image.save(\"target_img/\" + str(index+1) + '.png')\n",
        "            #image.save(\"target_img/\"+fname +\"-\"+ str(index+1) + '.png')\n",
        "    if 'old.pdf' in file:\n",
        "        #PDFファイルを画像ファイルに変換\n",
        "        images = pdf2image.convert_from_path(file, grayscale=True, size=4000)\n",
        "        fname = os.path.splitext(file)[0]\n",
        "        #ページごとに保存\n",
        "        for index, image in enumerate(images):\n",
        "            image.save(\"source_img/\" + str(index+1) + '.png')\n",
        "            #image.save(\"source_img/\"+fname +\"-\"+ str(index+1) + '.png')"
      ],
      "execution_count": null,
      "outputs": []
    },
    {
      "cell_type": "code",
      "metadata": {
        "id": "8jTkIxK50MQj"
      },
      "source": [
        "import pathlib\n",
        "import cv2\n",
        "import numpy as np"
      ],
      "execution_count": null,
      "outputs": []
    },
    {
      "cell_type": "code",
      "metadata": {
        "id": "YlXJtx8l2_hP"
      },
      "source": [
        "source_dir = pathlib.Path('/content/source_img')\n",
        "source_files = source_dir.glob('*.*')\n",
        "target_dir = pathlib.Path('/content/target_img')\n",
        "result_dir = pathlib.Path('/content/result_img')\n",
        "log_file = result_dir / pathlib.Path('result.log')\n",
        "#\n",
        "kernel = np.ones((7, 7), np.uint8) \n",
        "#kernel = np.ones((3, 3), np.uint8)"
      ],
      "execution_count": null,
      "outputs": []
    },
    {
      "cell_type": "code",
      "metadata": {
        "id": "m_1cUHwyAmhn"
      },
      "source": [
        "fs = open(log_file, mode='w')\n",
        "for source_file in source_files:\n",
        "    source_img = cv2.imread(str(source_file))\n",
        "    target_file = target_dir / source_file.name\n",
        "    target_img = cv2.imread(str(target_file))\n",
        "    #print(target_img)\n",
        "    if target_img is None:\n",
        "        #fs.write(target_file + '...skipped.\\n')\n",
        "        continue\n",
        "    #最大幅と最大高さの取得\n",
        "    max_hight = max(source_img.shape[0], target_img.shape[0])\n",
        "    max_width = max(source_img.shape[1], target_img.shape[1])\n",
        "\n",
        "    temp_img = source_img\n",
        "    source_img = np.zeros((max_hight, max_width, 3), dtype=np.uint8)\n",
        "    source_img[0:temp_img.shape[0], 0:temp_img.shape[1]] = temp_img\n",
        "\n",
        "    temp_img = target_img\n",
        "    target_img = np.zeros((max_hight, max_width, 3), dtype=np.uint8)\n",
        "    target_img[0:temp_img.shape[0], 0:temp_img.shape[1]] = temp_img\n",
        "    # アルファブレンドで2枚を合成\n",
        "    # https://note.nkmk.me/python-opencv-numpy-alpha-blend-mask/\n",
        "    result_img = cv2.addWeighted(source_img, 0.5, target_img, 0.5, 0)\n",
        "    #RGB⇔BGR変換\n",
        "    #https://note.nkmk.me/python-opencv-bgr-rgb-cvtcolor/\n",
        "    source_img = cv2.cvtColor(source_img, cv2.COLOR_BGR2GRAY)\n",
        "    target_img = cv2.cvtColor(target_img, cv2.COLOR_BGR2GRAY)\n",
        "    # 差の絶対値をもとめる。\n",
        "    img = cv2.absdiff(source_img, target_img)\n",
        "    # threshhold(src, thresh, maxval, type)\n",
        "    # threshより大きな値がmaxvalにそれ以外が0に置き換わる。\n",
        "    rtn, img = cv2.threshold(img, 0, 255, cv2.THRESH_OTSU)\n",
        "    # 収縮→差分消えてしまう。\n",
        "    #img = cv2.erode(img,kernel,iterations = 1)\n",
        "    # 膨張\n",
        "    img = cv2.dilate(img,kernel,iterations = 1)\n",
        "    # クロージング →あまり意味ない？\n",
        "    img = cv2.morphologyEx(img, cv2.MORPH_CLOSE, kernel)\n",
        "    # モルフォロジー勾配→輪郭抽出。\n",
        "    # http://labs.eecs.tottori-u.ac.jp/sd/Member/oyamada/OpenCV/html/py_tutorials/py_imgproc/py_morphological_ops/py_morphological_ops.html\n",
        "    img = cv2.morphologyEx(img, cv2.MORPH_OPEN, kernel)\n",
        "    # 輪郭を抽出する。\n",
        "    # http://labs.eecs.tottori-u.ac.jp/sd/Member/oyamada/OpenCV/html/py_tutorials/py_imgproc/py_contours/py_contours_begin/py_contours_begin.html\n",
        "    contours, hierarchy = cv2.findContours(img, cv2.RETR_TREE,\n",
        "                                           cv2.CHAIN_APPROX_SIMPLE)\n",
        "    result_img = cv2.drawContours(result_img, contours, -1, (0, 0, 255),2)\n",
        "    score = 0\n",
        "    for contour in contours:\n",
        "        score += cv2.contourArea(contour)\n",
        "    score /= max_hight * max_width\n",
        "    fs.write(target_file.name + ', ' + str(score) + '\\n')\n",
        "    diff_file = result_dir / source_file.name\n",
        "    cv2.imwrite(str(diff_file), result_img)\n",
        "fs.close()"
      ],
      "execution_count": null,
      "outputs": []
    },
    {
      "cell_type": "code",
      "metadata": {
        "id": "jek4MkYQfE2V",
        "colab": {
          "base_uri": "https://localhost:8080/"
        },
        "outputId": "6294ddc3-e14f-417d-d214-6909d71a5513"
      },
      "source": [
        "!pip install img2pdf"
      ],
      "execution_count": null,
      "outputs": [
        {
          "output_type": "stream",
          "name": "stdout",
          "text": [
            "Looking in indexes: https://pypi.org/simple, https://us-python.pkg.dev/colab-wheels/public/simple/\n",
            "Collecting img2pdf\n",
            "  Downloading img2pdf-0.4.4.tar.gz (97 kB)\n",
            "\u001b[K     |████████████████████████████████| 97 kB 6.1 MB/s \n",
            "\u001b[?25hRequirement already satisfied: Pillow in /usr/local/lib/python3.7/dist-packages (from img2pdf) (7.1.2)\n",
            "Collecting pikepdf\n",
            "  Downloading pikepdf-5.2.0-cp37-cp37m-manylinux_2_17_x86_64.manylinux2014_x86_64.whl (2.3 MB)\n",
            "\u001b[K     |████████████████████████████████| 2.3 MB 38.6 MB/s \n",
            "\u001b[?25hRequirement already satisfied: lxml>=4.0 in /usr/local/lib/python3.7/dist-packages (from pikepdf->img2pdf) (4.2.6)\n",
            "Requirement already satisfied: importlib-metadata>=4 in /usr/local/lib/python3.7/dist-packages (from pikepdf->img2pdf) (4.11.4)\n",
            "Requirement already satisfied: packaging in /usr/local/lib/python3.7/dist-packages (from pikepdf->img2pdf) (21.3)\n",
            "Collecting deprecation\n",
            "  Downloading deprecation-2.1.0-py2.py3-none-any.whl (11 kB)\n",
            "Requirement already satisfied: typing-extensions>=4 in /usr/local/lib/python3.7/dist-packages (from pikepdf->img2pdf) (4.1.1)\n",
            "Requirement already satisfied: zipp>=0.5 in /usr/local/lib/python3.7/dist-packages (from importlib-metadata>=4->pikepdf->img2pdf) (3.8.0)\n",
            "Requirement already satisfied: pyparsing!=3.0.5,>=2.0.2 in /usr/local/lib/python3.7/dist-packages (from packaging->pikepdf->img2pdf) (3.0.9)\n",
            "Building wheels for collected packages: img2pdf\n",
            "  Building wheel for img2pdf (setup.py) ... \u001b[?25l\u001b[?25hdone\n",
            "  Created wheel for img2pdf: filename=img2pdf-0.4.4-py3-none-any.whl size=44881 sha256=abb8aa6aeb8e75f5b13238ee402ec310ae7d9bf67e00709978bbc37f789eba58\n",
            "  Stored in directory: /root/.cache/pip/wheels/d2/a7/53/9983aef9861f91881984e08f376e3119bdfeeecf55bd36e585\n",
            "Successfully built img2pdf\n",
            "Installing collected packages: deprecation, pikepdf, img2pdf\n",
            "Successfully installed deprecation-2.1.0 img2pdf-0.4.4 pikepdf-5.2.0\n"
          ]
        }
      ]
    },
    {
      "cell_type": "code",
      "metadata": {
        "id": "a4wQw_fDAucC"
      },
      "source": [
        "import os\n",
        "import img2pdf\n",
        "import PIL #img2pdfと一緒にインストールされたPillowを使います\n",
        "import natsort"
      ],
      "execution_count": null,
      "outputs": []
    },
    {
      "cell_type": "code",
      "metadata": {
        "id": "QLKgPCNrfAGp"
      },
      "source": [
        "pdf_FileName = \"/content/result.pdf\" # 出力するPDFの名前\n",
        "png_Folder = \"/content/result_img/\" # 画像フォルダ\n",
        "extension  = \".png\" # 拡張子がPNGのものを対象\n",
        "\n",
        "with open(pdf_FileName,\"wb\") as f:\n",
        "    # 画像フォルダの中にあるPNGファイルを取得し配列に追加、バイナリ形式でファイルに書き込む\n",
        "    f.write(img2pdf.convert([PIL.Image.open(png_Folder+j).filename for j in natsort.natsorted(os.listdir(png_Folder)) if j.endswith(extension)]))"
      ],
      "execution_count": null,
      "outputs": []
    },
    {
      "cell_type": "code",
      "metadata": {
        "id": "H9t85xmNjOYq"
      },
      "source": [
        "#画像フォルダー削除（連続で実施することを想定）\n",
        "!rm -r /content/result_img\n",
        "!rm -r /content/target_img\n",
        "!rm -r /content/source_img"
      ],
      "execution_count": null,
      "outputs": []
    },
    {
      "cell_type": "code",
      "metadata": {
        "id": "8O6_oRr8nODi"
      },
      "source": [
        "# https://campkougaku.com/2020/04/15/alignment/\n",
        "# ズレ修正　これが実装できる日がくるのか・・・。"
      ],
      "execution_count": null,
      "outputs": []
    },
    {
      "cell_type": "code",
      "metadata": {
        "id": "byJFrgsz5L_O"
      },
      "source": [
        ""
      ],
      "execution_count": null,
      "outputs": []
    }
  ]
}